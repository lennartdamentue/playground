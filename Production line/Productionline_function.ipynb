{
 "cells": [
  {
   "cell_type": "markdown",
   "metadata": {},
   "source": [
    "# Producing Bottles\n",
    "\n",
    "See textfile for explanation"
   ]
  },
  {
   "cell_type": "code",
   "execution_count": 1,
   "metadata": {},
   "outputs": [],
   "source": [
    "import scipy.stats as st\n",
    "import pandas as pd\n",
    "import numpy as np\n",
    "import matplotlib.pyplot as plt"
   ]
  },
  {
   "cell_type": "markdown",
   "metadata": {},
   "source": [
    "# Input\n",
    "\n",
    "probability functions and parameters, number of experiments, number of bottles produced"
   ]
  },
  {
   "cell_type": "code",
   "execution_count": 2,
   "metadata": {},
   "outputs": [],
   "source": [
    "n = 1000 #1000 experiments\n",
    "m = 100 #100 bottles\n",
    "\n",
    "lambda1 = 1 #arrival rate\n",
    "lambda2 = 1.3 #service rate\n",
    "\n",
    "max_stuck = 3 #how many bottles may be in second stage before machine breaks\n",
    "# If lambda1 >> lambda2, probably you will break the system a lot"
   ]
  },
  {
   "cell_type": "markdown",
   "metadata": {},
   "source": [
    "# Random draws for arrival and service\n",
    "\n",
    "One row = one scenario"
   ]
  },
  {
   "cell_type": "code",
   "execution_count": 3,
   "metadata": {},
   "outputs": [],
   "source": [
    "# How long until next arrival\n",
    "arrivals = st.expon.rvs(size=(n,m), scale = lambda1)\n",
    "arrivals = arrivals.cumsum(axis=1)\n",
    "arrivals = pd.DataFrame(arrivals)\n",
    "\n",
    "# How long until service\n",
    "service = st.expon.rvs(size=(n,m), scale = lambda2)\n",
    "service = pd.DataFrame(service)"
   ]
  },
  {
   "cell_type": "markdown",
   "metadata": {},
   "source": [
    "# Function"
   ]
  },
  {
   "cell_type": "code",
   "execution_count": 4,
   "metadata": {},
   "outputs": [],
   "source": [
    "def process(arrivals, service, buffer):\n",
    "    print(\"Starting calculation for buffer \" + str(buffer))\n",
    "    finish = pd.DataFrame(np.zeros(arrivals.shape))\n",
    "    occupied = pd.DataFrame(np.zeros(arrivals.shape))\n",
    "    stuck = pd.DataFrame(np.zeros(arrivals.shape))\n",
    "    arrival_at_two = pd.DataFrame(np.zeros(arrivals.shape))\n",
    "\n",
    "    for t in range(arrivals.shape[1]):\n",
    "        \n",
    "        if t==0:\n",
    "            arrival_at_two.iloc[:,t] = arrivals.iloc[:,t]\n",
    "            finish.iloc[:,t] = arrival_at_two.iloc[:,t]+service.iloc[:,t]\n",
    "\n",
    "        else:\n",
    "            occupied.iloc[:,t] = (finish.iloc[:,:t].apply(lambda x: x>arrivals.iloc[:,t]) & # not finished\n",
    "                                  arrival_at_two.iloc[:,:t].apply(lambda x: x<arrivals.iloc[:,t])).any(axis=1) # but has arrived\n",
    "            \n",
    "            stuck.iloc[:,t] = (finish.iloc[:,:t].apply(lambda x: x>arrivals.iloc[:,t]) & # not finished\n",
    "                               arrival_at_two.iloc[:,:t].apply(lambda x: x<arrivals.iloc[:,t])).sum(axis=1) # but has arrived\n",
    "            \n",
    "            arrival_at_two.iloc[:,t] = arrivals.iloc[:,t].values+buffer*occupied.iloc[:,t].values\n",
    "\n",
    "            finish.iloc[:,t] = arrival_at_two.iloc[:,t]+service.iloc[:,t]\n",
    "           \n",
    "    print(\"Finished.\")\n",
    "    \n",
    "    return arrival_at_two, finish, occupied, stuck"
   ]
  },
  {
   "cell_type": "markdown",
   "metadata": {},
   "source": [
    "# Choose some buffer times, run the simulation"
   ]
  },
  {
   "cell_type": "code",
   "execution_count": 5,
   "metadata": {},
   "outputs": [
    {
     "name": "stdout",
     "output_type": "stream",
     "text": [
      "Starting calculation for buffer 0\n",
      "Finished.\n",
      "Starting calculation for buffer 1\n",
      "Finished.\n",
      "Starting calculation for buffer 2\n",
      "Finished.\n",
      "Starting calculation for buffer 5\n",
      "Finished.\n",
      "Starting calculation for buffer 10\n",
      "Finished.\n",
      "Starting calculation for buffer 15\n",
      "Finished.\n",
      "Starting calculation for buffer 20\n",
      "Finished.\n",
      "Starting calculation for buffer 35\n",
      "Finished.\n",
      "Starting calculation for buffer 50\n",
      "Finished.\n",
      "Starting calculation for buffer 60\n",
      "Finished.\n",
      "Starting calculation for buffer 75\n",
      "Finished.\n",
      "Starting calculation for buffer 100\n",
      "Finished.\n",
      "Starting calculation for buffer 150\n",
      "Finished.\n"
     ]
    }
   ],
   "source": [
    "buffers = [0,1,2,5,10,15,20,35,50,60,75,100,150]\n",
    "\n",
    "results = [process(arrivals, service, buffer) for buffer in buffers]"
   ]
  },
  {
   "cell_type": "markdown",
   "metadata": {},
   "source": [
    "# Breakdowns"
   ]
  },
  {
   "cell_type": "code",
   "execution_count": 6,
   "metadata": {},
   "outputs": [],
   "source": [
    "breakdowns = [(results[i][3].max(axis=1)>max_stuck).sum() for i in range(len(buffers))]"
   ]
  },
  {
   "cell_type": "code",
   "execution_count": 7,
   "metadata": {},
   "outputs": [
    {
     "data": {
      "text/plain": [
       "[883, 851, 823, 812, 767, 752, 699, 555, 393, 336, 202, 26, 0]"
      ]
     },
     "execution_count": 7,
     "metadata": {},
     "output_type": "execute_result"
    }
   ],
   "source": [
    "breakdowns"
   ]
  },
  {
   "cell_type": "code",
   "execution_count": 8,
   "metadata": {},
   "outputs": [
    {
     "data": {
      "text/plain": [
       "[<matplotlib.lines.Line2D at 0x27b32baba90>]"
      ]
     },
     "execution_count": 8,
     "metadata": {},
     "output_type": "execute_result"
    },
    {
     "data": {
      "image/png": "[encoded data removed]",
      "text/plain": [
       "<Figure size 432x288 with 1 Axes>"
      ]
     },
     "metadata": {
      "needs_background": "light"
     },
     "output_type": "display_data"
    }
   ],
   "source": [
    "plt.plot(buffers, breakdowns)"
   ]
  },
  {
   "cell_type": "markdown",
   "metadata": {},
   "source": [
    "# Production rate"
   ]
  },
  {
   "cell_type": "code",
   "execution_count": 9,
   "metadata": {},
   "outputs": [
    {
     "data": {
      "text/plain": [
       "[102.15315570530346,\n",
       " 102.90290786357613,\n",
       " 103.77909459709466,\n",
       " 106.71468248150242,\n",
       " 111.62376328572623,\n",
       " 116.66725509838729,\n",
       " 121.65689981078035,\n",
       " 136.67139041126418,\n",
       " 151.5223796409409,\n",
       " 161.48879374849605,\n",
       " 176.47451422108102,\n",
       " 200.99746040455122,\n",
       " 250.65655931325406]"
      ]
     },
     "execution_count": 9,
     "metadata": {},
     "output_type": "execute_result"
    }
   ],
   "source": [
    "mean_process_time = [results[i][1].max(axis=1).mean() for i in range(len(buffers))]\n",
    "mean_process_time"
   ]
  },
  {
   "cell_type": "code",
   "execution_count": 10,
   "metadata": {},
   "outputs": [
    {
     "data": {
      "text/plain": [
       "[<matplotlib.lines.Line2D at 0x27b362c6860>]"
      ]
     },
     "execution_count": 10,
     "metadata": {},
     "output_type": "execute_result"
    },
    {
     "data": {
      "image/png": "[encoded data removed]",
      "text/plain": [
       "<Figure size 432x288 with 1 Axes>"
      ]
     },
     "metadata": {
      "needs_background": "light"
     },
     "output_type": "display_data"
    }
   ],
   "source": [
    "plt.plot(buffers, mean_process_time)"
   ]
  }
 ],
 "metadata": {
  "kernelspec": {
   "display_name": "Python 3",
   "language": "python",
   "name": "python3"
  },
  "language_info": {
   "codemirror_mode": {
    "name": "ipython",
    "version": 3
   },
   "file_extension": ".py",
   "mimetype": "text/x-python",
   "name": "python",
   "nbconvert_exporter": "python",
   "pygments_lexer": "ipython3",
   "version": "3.7.1"
  }
 },
 "nbformat": 4,
 "nbformat_minor": 2
}
