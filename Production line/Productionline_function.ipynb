{
 "cells": [
  {
   "cell_type": "markdown",
   "metadata": {},
   "source": [
    "# Producing Bottles\n",
    "\n",
    "See textfile for explanation"
   ]
  },
  {
   "cell_type": "code",
   "execution_count": null,
   "metadata": {},
   "outputs": [],
   "source": [
    "import scipy.stats as st\n",
    "import pandas as pd\n",
    "import numpy as np\n",
    "import matplotlib.pyplot as plt"
   ]
  },
  {
   "cell_type": "markdown",
   "metadata": {},
   "source": [
    "# Input\n",
    "\n",
    "probability functions and parameters, number of experiments, number of bottles produced"
   ]
  },
  {
   "cell_type": "code",
   "execution_count": null,
   "metadata": {},
   "outputs": [],
   "source": [
    "n = 1000 #1000 experiments\n",
    "m = 100 #100 bottles\n",
    "\n",
    "lambda1 = 1 #arrival rate\n",
    "lambda2 = 1.3 #service rate\n",
    "\n",
    "max_stuck = 3 #how many bottles may be in second stage before machine breaks\n",
    "# If lambda1 >> lambda2, probably you will break the system a lot"
   ]
  },
  {
   "cell_type": "markdown",
   "metadata": {},
   "source": [
    "# Random draws for arrival and service\n",
    "\n",
    "One row = one scenario"
   ]
  },
  {
   "cell_type": "code",
   "execution_count": null,
   "metadata": {},
   "outputs": [],
   "source": [
    "# How long until next arrival\n",
    "arrivals = st.expon.rvs(size=(n,m), scale = lambda1)\n",
    "arrivals = arrivals.cumsum(axis=1)\n",
    "arrivals = pd.DataFrame(arrivals)\n",
    "\n",
    "# How long until service\n",
    "service = st.expon.rvs(size=(n,m), scale = lambda2)\n",
    "service = pd.DataFrame(service)"
   ]
  },
  {
   "cell_type": "markdown",
   "metadata": {},
   "source": [
    "# Function"
   ]
  },
  {
   "cell_type": "code",
   "execution_count": null,
   "metadata": {},
   "outputs": [],
   "source": [
    "def process(arrivals, service, buffer):\n",
    "    print(\"Starting calculation for buffer \" + str(buffer))\n",
    "    finish = pd.DataFrame(np.zeros(arrivals.shape))\n",
    "    occupied = pd.DataFrame(np.zeros(arrivals.shape))\n",
    "    stuck = pd.DataFrame(np.zeros(arrivals.shape))\n",
    "    arrival_at_two = pd.DataFrame(np.zeros(arrivals.shape))\n",
    "\n",
    "    for t in range(arrivals.shape[1]):\n",
    "        \n",
    "        if t==0:\n",
    "            arrival_at_two.iloc[:,t] = arrivals.iloc[:,t]\n",
    "            finish.iloc[:,t] = arrival_at_two.iloc[:,t]+service.iloc[:,t]\n",
    "\n",
    "        else:\n",
    "            occupied.iloc[:,t] = (finish.iloc[:,:t].apply(lambda x: x>arrivals.iloc[:,t]) & # not finished\n",
    "                                  arrival_at_two.iloc[:,:t].apply(lambda x: x<arrivals.iloc[:,t])).any(axis=1) # but has arrived\n",
    "            \n",
    "            stuck.iloc[:,t] = (finish.iloc[:,:t].apply(lambda x: x>arrivals.iloc[:,t]) & # not finished\n",
    "                               arrival_at_two.iloc[:,:t].apply(lambda x: x<arrivals.iloc[:,t])).sum(axis=1) # but has arrived\n",
    "            \n",
    "            arrival_at_two.iloc[:,t] = arrivals.iloc[:,t].values+buffer*occupied.iloc[:,t].values\n",
    "\n",
    "            finish.iloc[:,t] = arrival_at_two.iloc[:,t]+service.iloc[:,t]\n",
    "           \n",
    "    print(\"Finished.\")\n",
    "    \n",
    "    return arrival_at_two, finish, occupied, stuck"
   ]
  },
  {
   "cell_type": "markdown",
   "metadata": {},
   "source": [
    "# Choose some buffer times, run the simulation"
   ]
  },
  {
   "cell_type": "code",
   "execution_count": null,
   "metadata": {},
   "outputs": [],
   "source": [
    "buffers = [0,1,2,5,10,15,20,35,50,60,75,100,150]\n",
    "\n",
    "results = [process(arrivals, service, buffer) for buffer in buffers]"
   ]
  },
  {
   "cell_type": "markdown",
   "metadata": {},
   "source": [
    "# Breakdowns"
   ]
  },
  {
   "cell_type": "code",
   "execution_count": null,
   "metadata": {},
   "outputs": [],
   "source": [
    "breakdowns = [(results[i][3].max(axis=1)>max_stuck).sum() for i in range(len(buffers))]"
   ]
  },
  {
   "cell_type": "code",
   "execution_count": null,
   "metadata": {},
   "outputs": [],
   "source": [
    "breakdowns"
   ]
  },
  {
   "cell_type": "code",
   "execution_count": null,
   "metadata": {},
   "outputs": [],
   "source": [
    "plt.plot(buffers, breakdowns)"
   ]
  },
  {
   "cell_type": "markdown",
   "metadata": {},
   "source": [
    "# Production rate"
   ]
  },
  {
   "cell_type": "code",
   "execution_count": null,
   "metadata": {},
   "outputs": [],
   "source": [
    "mean_process_time = [results[i][1].max(axis=1).mean() for i in range(len(buffers))]\n",
    "mean_process_time"
   ]
  },
  {
   "cell_type": "code",
   "execution_count": null,
   "metadata": {},
   "outputs": [],
   "source": [
    "plt.plot(buffers, mean_process_time)"
   ]
  }
 ],
 "metadata": {
  "kernelspec": {
   "display_name": "Python 3",
   "language": "python",
   "name": "python3"
  },
  "language_info": {
   "codemirror_mode": {
    "name": "ipython",
    "version": 3
   },
   "file_extension": ".py",
   "mimetype": "text/x-python",
   "name": "python",
   "nbconvert_exporter": "python",
   "pygments_lexer": "ipython3",
   "version": "3.7.1"
  }
 },
 "nbformat": 4,
 "nbformat_minor": 2
}
