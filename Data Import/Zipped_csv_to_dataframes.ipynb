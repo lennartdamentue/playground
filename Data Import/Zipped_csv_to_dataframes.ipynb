{
 "cells": [
  {
   "cell_type": "markdown",
   "metadata": {},
   "source": [
    "# Importing data from a number of zipfiles containing csv files\n",
    "\n",
    "This notebook can be used to extract information from zipped csv files (with multiple zipped folders). The code accessesses the csv files and merges all together in one pandas dataframe.\n",
    "\n",
    "Run the first three cells. Then, specify your path, and the number of zipped files you want to convert to a dataframe.\n",
    "The unzipping is done sequentially: specifying 'number_to_unpack = 3' will unpack the first three zipfiles, and store the information in a DataFrame.\n",
    "\n",
    "Typically useful to access data in zipfiles that need to be accessed often.\n",
    "\n",
    "Created: 16/10/2018, L.A. Damen"
   ]
  },
  {
   "cell_type": "code",
   "execution_count": null,
   "metadata": {},
   "outputs": [],
   "source": [
    "import pandas as pd\n",
    "import zipfile\n",
    "from os import listdir\n",
    "import timeit\n",
    "import pickle"
   ]
  },
  {
   "cell_type": "code",
   "execution_count": null,
   "metadata": {},
   "outputs": [],
   "source": [
    "def zip_to_df(this_zip):\n",
    "    '''\n",
    "    Converts all csv files in single zipped file (this_zip) to pandas dataframe.\n",
    "    My_path must be specified explicitly in the main script (cell 4)\n",
    "    \n",
    "    Input: single zipfile containing csv files\n",
    "    Output: dataframe of all csv files in zipfile\n",
    "    \n",
    "    '''\n",
    "    print(\"Starting conversion for \" + str(this_zip))\n",
    "    zf = zipfile.ZipFile(my_path + this_zip)\n",
    "    all_csv_names = zf.namelist() # contains all the names of the csv files within that zipfile\n",
    "    df_this_zip = pd.concat((pd.read_csv(zf.open(csv_name), parse_dates = True) for csv_name in all_csv_names))\n",
    "    print(\"Finished.\")\n",
    "    \n",
    "    return df_this_zip"
   ]
  },
  {
   "cell_type": "code",
   "execution_count": null,
   "metadata": {},
   "outputs": [],
   "source": [
    "def get_df_from_directory(my_path, num_zips = -1):\n",
    "    ''''\n",
    "    Using zip_to_df, converts all csv files from the zipfiles to pandas dataframe\n",
    "    \n",
    "    Input:\n",
    "    1. my_path: path where all the zipfiles are located\n",
    "    2. num_zips: number of zipped files you want to create a DataFrame of.\n",
    "        The default for this parameter is ALL files\n",
    "        \n",
    "    Output: dataframe of all csv files in all zipfiles\n",
    "    '''\n",
    "    all_zipnames = listdir(my_path)\n",
    "    \n",
    "    if num_zips == -1:\n",
    "        num_zips = len(all_zipnames)\n",
    "        \n",
    "    final_df = pd.concat(list(map(zip_to_df, all_zipnames[0:num_zips])))\n",
    "    \n",
    "    return final_df"
   ]
  },
  {
   "cell_type": "code",
   "execution_count": null,
   "metadata": {},
   "outputs": [],
   "source": [
    "## Calling the Main Function\n",
    "\n",
    "my_path = 'C:/SOMETHING_HERE/'\n",
    "number_to_unpack = ...\n",
    "\n",
    "df_final = get_df_from_directory(my_path, number_to_unpack)\n",
    "\n",
    "df_final.head()"
   ]
  },
  {
   "cell_type": "code",
   "execution_count": null,
   "metadata": {},
   "outputs": [],
   "source": [
    "## Saving the dataframe created\n",
    "\n",
    "## Use pickle to load fast in python, or alternatively csv \n",
    "\n",
    "df_final.to_csv(\"all_data.csv\")\n",
    "df_final.to_pickle(\"all_data.pkl\")"
   ]
  }
 ],
 "metadata": {
  "kernelspec": {
   "display_name": "Python 3",
   "language": "python",
   "name": "python3"
  },
  "language_info": {
   "codemirror_mode": {
    "name": "ipython",
    "version": 3
   },
   "file_extension": ".py",
   "mimetype": "text/x-python",
   "name": "python",
   "nbconvert_exporter": "python",
   "pygments_lexer": "ipython3",
   "version": "3.7.1"
  }
 },
 "nbformat": 4,
 "nbformat_minor": 2
}
